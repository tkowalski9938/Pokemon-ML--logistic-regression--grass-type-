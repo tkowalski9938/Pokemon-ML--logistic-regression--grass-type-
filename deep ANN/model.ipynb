{
 "cells": [
  {
   "cell_type": "code",
   "execution_count": 106,
   "source": [
    "import numpy as np\r\n",
    "from numpy import save\r\n",
    "import matplotlib.pyplot as plt"
   ],
   "outputs": [],
   "metadata": {}
  },
  {
   "cell_type": "code",
   "execution_count": 77,
   "source": [
    "#should make the train sets have a 50/50 split between grass type or not\r\n",
    "X_train = np.load(\"../data/train_set/vectorized/X_train_preprocessed.npy\")\r\n",
    "X_train_modified = np.load(\"../data/train_set/vectorized/X_train_modified_preprocessed.npy\")\r\n",
    "X_test = np.load(\"../data/test_set/vectorized/X_test_preprocessed.npy\")\r\n",
    "Y_train = np.load(\"../data/train_set/vectorized/Y_train.npy\")\r\n",
    "Y_train_modified = np.load(\"../data/train_set/vectorized/Y_train_modified.npy\")\r\n",
    "Y_test = np.load(\"../data/test_set/vectorized/Y_test.npy\")"
   ],
   "outputs": [],
   "metadata": {}
  },
  {
   "cell_type": "code",
   "execution_count": 78,
   "source": [
    "def initialize_parameters(layer_dims):\r\n",
    "    parameters = {}\r\n",
    "    L = len(layer_dims) - 1\r\n",
    "\r\n",
    "    for i in range(L):\r\n",
    "        parameters[\"W\" + str(i + 1)] = np.random.randn(layer_dims[i + 1], layer_dims[i]) * 0.01\r\n",
    "        parameters[\"b\" + str(i + 1)] = np.zeros([layer_dims[i + 1], 1]) * 0.01\r\n",
    "    \r\n",
    "    return parameters"
   ],
   "outputs": [],
   "metadata": {}
  },
  {
   "cell_type": "code",
   "execution_count": 79,
   "source": [
    "def linear_forward(A_prev, W, b):\r\n",
    "    Z = np.dot(W, A_prev) + b\r\n",
    "    return Z, W, A_prev\r\n",
    "\r\n",
    "#using a ReLU activation function\r\n",
    "def activation_forward(Z):\r\n",
    "    A = np.maximum(0, Z)\r\n",
    "    return A\r\n",
    "\r\n",
    "def model_forward(X, parameters):\r\n",
    "    caches = []\r\n",
    "    A_prev = X\r\n",
    "\r\n",
    "    #propagates through every layer except last, since the last one will use the sigmoid activation function\r\n",
    "    for i in range((len(parameters) // 2) - 1):\r\n",
    "        Z, W, A_prev = linear_forward(A_prev, parameters[\"W\" + str(i + 1)], parameters[\"b\" + str(i + 1)])\r\n",
    "        A = activation_forward(Z)\r\n",
    "        caches.append([Z, W, A_prev])\r\n",
    "        A_prev = A\r\n",
    "    \r\n",
    "    #output layer\r\n",
    "    Z_last, W_last, A_prev_last = linear_forward(A_prev, parameters[\"W\" + str(len(parameters) // 2)], parameters[\"b\" + str(len(parameters) // 2)])\r\n",
    "    Al = 1 / (1 + np.exp(-Z_last))\r\n",
    "    caches.append([Z_last, W_last, A_prev_last])\r\n",
    "\r\n",
    "    return caches, Al"
   ],
   "outputs": [],
   "metadata": {}
  },
  {
   "cell_type": "code",
   "execution_count": 80,
   "source": [
    "def compute_cost(Al, Y):\r\n",
    "    # Al = caches[len(caches) - 1][3]\r\n",
    "    m = Al.shape[1]\r\n",
    "    cost = np.squeeze((-1/m) * (np.dot(Y, np.log(Al + 1e-8).T) + np.dot([1] - Y, np.log([1] - Al + 1e-8).T)))\r\n",
    "    return cost"
   ],
   "outputs": [],
   "metadata": {}
  },
  {
   "cell_type": "code",
   "execution_count": 81,
   "source": [
    "def linear_backward(dZ, respective_cache):\r\n",
    "    A_prev = respective_cache[2]\r\n",
    "    W = respective_cache[1]\r\n",
    "    m = A_prev.shape[1]\r\n",
    "    dW = (1 / m) * np.dot(dZ, A_prev.T)\r\n",
    "    db = (1 / m) * np.sum(dZ, axis=1, keepdims=True)\r\n",
    "    dA_prev = np.dot(W.T, dZ)\r\n",
    "    return dW, db, dA_prev\r\n",
    "\r\n",
    "#for ReLU activations\r\n",
    "def activation_backward(dA, respective_cache):\r\n",
    "    Z = respective_cache[0]\r\n",
    "    dZ = dA * ((Z > 0) * 1)\r\n",
    "    return dZ\r\n",
    "\r\n",
    "def model_backward(caches, Y, Al):\r\n",
    "    derivatives = {}\r\n",
    "    L = len(caches)\r\n",
    "\r\n",
    "    #computes the derivative for the last layer as follows because it is using a sigmoid activation\r\n",
    "    dZ_L = Al - Y\r\n",
    "    dW_L, db_L, dA_L = linear_backward(dZ_L, caches[L - 1])\r\n",
    "    derivatives[\"dW\" + str(L)] = dW_L\r\n",
    "    derivatives[\"db\" + str(L)] = db_L\r\n",
    "\r\n",
    "    dA = dA_L\r\n",
    "    #goes through every hidden layer\r\n",
    "    for i in reversed(range(L - 1)):\r\n",
    "        dZ = activation_backward(dA, caches[i])\r\n",
    "        dW, db, dA_prev = linear_backward(dZ, caches[i])\r\n",
    "        derivatives[\"dW\" + str(i + 1)] = dW\r\n",
    "        derivatives[\"db\" + str(i + 1)] = db\r\n",
    "        dA = dA_prev\r\n",
    "\r\n",
    "    return derivatives"
   ],
   "outputs": [],
   "metadata": {}
  },
  {
   "cell_type": "code",
   "execution_count": 82,
   "source": [
    "def update_parameters(parameters, derivatives, learning_rate):\r\n",
    "    for i in range(len(parameters) // 2):\r\n",
    "        parameters[\"W\" + str(i + 1)] = parameters[\"W\" + str(i + 1)] - (learning_rate * derivatives[\"dW\" + str(i + 1)])\r\n",
    "        parameters[\"b\" + str(i + 1)] = parameters[\"b\" + str(i + 1)] - (learning_rate * derivatives[\"db\" + str(i + 1)])\r\n",
    "    return parameters"
   ],
   "outputs": [],
   "metadata": {}
  },
  {
   "cell_type": "code",
   "execution_count": 83,
   "source": [
    "def model(X, Y, layer_dims, num_iterations, learning_rate):\r\n",
    "    parameters = initialize_parameters(layer_dims)\r\n",
    "\r\n",
    "    costs = []\r\n",
    "    k = 0\r\n",
    "    while k < num_iterations:\r\n",
    "        caches, Al = model_forward(X, parameters)\r\n",
    "        derivatives = model_backward(caches, Y, Al)\r\n",
    "        parameters = update_parameters(parameters, derivatives, learning_rate)\r\n",
    "\r\n",
    "        if (k + 1) % 100 == 0  or k == num_iterations - 1:\r\n",
    "            cost = compute_cost(Al, Y)\r\n",
    "            costs.append(cost)\r\n",
    "            print(\"Cost at iteration \" + str(k + 1) + \" is \" + str(cost))\r\n",
    "            \r\n",
    "        k += 1\r\n",
    "    return parameters, costs"
   ],
   "outputs": [],
   "metadata": {}
  },
  {
   "cell_type": "code",
   "execution_count": 84,
   "source": [
    "def plot_costs(costs, learning_rate):\r\n",
    "    plt.plot(np.squeeze(costs))\r\n",
    "    plt.ylabel('cost')\r\n",
    "    plt.xlabel('iterations (per hundreds)')\r\n",
    "    plt.title(\"Learning rate =\" + str(learning_rate))\r\n",
    "    plt.show()"
   ],
   "outputs": [],
   "metadata": {}
  },
  {
   "cell_type": "code",
   "execution_count": 85,
   "source": [
    "def predict_accuracy(X, Y, parameters):\r\n",
    "    caches, Al = model_forward(X, parameters)\r\n",
    "    m = Al.shape[1]\r\n",
    "    Al = (Al >= 0.5) * 1\r\n",
    "    accuracy = np.squeeze(100 * (1 - (np.sum(np.abs(Al - Y), axis=1) / m)))\r\n",
    "    return accuracy"
   ],
   "outputs": [],
   "metadata": {}
  },
  {
   "cell_type": "code",
   "execution_count": 101,
   "source": [
    "#using the model, 43200 because that is the dimension of the image vector\r\n",
    "parameters, costs = model(X_train, Y_train, [43200, 4, 1], 2000, 0.1)\r\n",
    "\r\n",
    "plot_costs(costs, 0.1)\r\n",
    "\r\n",
    "train_accuracy = predict_accuracy(X_train, Y_train, parameters)\r\n",
    "fifty_fifty_accuracy = predict_accuracy(X_train_modified, Y_train_modified, parameters)\r\n",
    "test_accuracy = predict_accuracy(X_test, Y_test, parameters)\r\n",
    "\r\n",
    "print(\"train accuracy = \" + str(train_accuracy) + \"%\" )\r\n",
    "print(\"test accuracy = \" + str(test_accuracy) + \"%\")\r\n",
    "print(\"50/50 set accuracy = \" + str(fifty_fifty_accuracy) + \"%\")"
   ],
   "outputs": [
    {
     "output_type": "stream",
     "name": "stdout",
     "text": [
      "Cost at iteration 100 is 0.26214333101478304\n",
      "Cost at iteration 200 is 0.1740035978318785\n",
      "Cost at iteration 300 is 0.12535269328702667\n",
      "Cost at iteration 400 is 0.09726733599262402\n",
      "Cost at iteration 500 is 0.07991568440968004\n",
      "Cost at iteration 600 is 0.071822051737901\n",
      "Cost at iteration 700 is 0.06741231550515568\n",
      "Cost at iteration 800 is 0.06095638640281979\n",
      "Cost at iteration 900 is 0.05836261849022467\n",
      "Cost at iteration 1000 is 0.05360074232371906\n",
      "Cost at iteration 1100 is 0.0522441901674785\n",
      "Cost at iteration 1200 is 0.04822988183511515\n",
      "Cost at iteration 1300 is 0.046560422687462834\n",
      "Cost at iteration 1400 is 0.04366654619216789\n",
      "Cost at iteration 1500 is 0.04174934111047348\n",
      "Cost at iteration 1600 is 0.03993417676346283\n",
      "Cost at iteration 1700 is 0.03805900513854389\n",
      "Cost at iteration 1800 is 0.03640999623085631\n",
      "Cost at iteration 1900 is 0.03468725650820562\n",
      "Cost at iteration 2000 is 0.033143555261479454\n"
     ]
    },
    {
     "output_type": "display_data",
     "data": {
      "text/plain": [
       "<Figure size 432x288 with 1 Axes>"
      ],
      "image/png": "[encoded data removed]"
     },
     "metadata": {
      "needs_background": "light"
     }
    },
    {
     "output_type": "stream",
     "name": "stdout",
     "text": [
      "train accuracy = 100.0%\n",
      "test accuracy = 86.0%\n",
      "50/50 set accuracy = 100.0%\n"
     ]
    }
   ],
   "metadata": {}
  },
  {
   "cell_type": "code",
   "execution_count": 108,
   "source": [
    "print(parameters)\r\n",
    "save(\"parameters.npy\", parameters)"
   ],
   "outputs": [
    {
     "output_type": "stream",
     "name": "stdout",
     "text": [
      "{'W1': array([[-0.00236667, -0.00952643,  0.00760227, ...,  0.00661184,\n",
      "         0.00667944,  0.00560862],\n",
      "       [ 0.01725557,  0.0033097 ,  0.00209837, ..., -0.03464234,\n",
      "         0.02370117,  0.01019477],\n",
      "       [-0.00514491,  0.00389029, -0.00350725, ..., -0.02126386,\n",
      "        -0.01066335, -0.00984801],\n",
      "       [-0.01444667, -0.00772241, -0.00140231, ...,  0.00147122,\n",
      "         0.0017859 ,  0.00300048]]), 'b1': array([[0.0527809 ],\n",
      "       [0.03053222],\n",
      "       [0.01349824],\n",
      "       [0.13501488]]), 'W2': array([[-0.32535322, -0.48439562, -0.27198192, -1.56931809]]), 'b2': array([[2.41649667]])}\n"
     ]
    }
   ],
   "metadata": {}
  },
  {
   "cell_type": "code",
   "execution_count": 110,
   "source": [
    "list = np.load(\"parameters.npy\", allow_pickle=True)\r\n",
    "print(list)"
   ],
   "outputs": [
    {
     "output_type": "stream",
     "name": "stdout",
     "text": [
      "{'W1': array([[-0.00236667, -0.00952643,  0.00760227, ...,  0.00661184,\n",
      "         0.00667944,  0.00560862],\n",
      "       [ 0.01725557,  0.0033097 ,  0.00209837, ..., -0.03464234,\n",
      "         0.02370117,  0.01019477],\n",
      "       [-0.00514491,  0.00389029, -0.00350725, ..., -0.02126386,\n",
      "        -0.01066335, -0.00984801],\n",
      "       [-0.01444667, -0.00772241, -0.00140231, ...,  0.00147122,\n",
      "         0.0017859 ,  0.00300048]]), 'b1': array([[0.0527809 ],\n",
      "       [0.03053222],\n",
      "       [0.01349824],\n",
      "       [0.13501488]]), 'W2': array([[-0.32535322, -0.48439562, -0.27198192, -1.56931809]]), 'b2': array([[2.41649667]])}\n"
     ]
    }
   ],
   "metadata": {}
  }
 ],
 "metadata": {
  "orig_nbformat": 4,
  "language_info": {
   "name": "python",
   "version": "3.9.4",
   "mimetype": "text/x-python",
   "codemirror_mode": {
    "name": "ipython",
    "version": 3
   },
   "pygments_lexer": "ipython3",
   "nbconvert_exporter": "python",
   "file_extension": ".py"
  },
  "kernelspec": {
   "name": "python3",
   "display_name": "Python 3.9.4 64-bit"
  },
  "interpreter": {
   "hash": "6cbb16c13b18e0460413e9178e417aef82e3a5f0d8a809cc8c4ffdee2c561ffd"
  }
 },
 "nbformat": 4,
 "nbformat_minor": 2
}